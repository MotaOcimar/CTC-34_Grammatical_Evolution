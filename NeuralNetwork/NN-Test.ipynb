{
 "cells": [
  {
   "cell_type": "code",
   "execution_count": 79,
   "metadata": {},
   "outputs": [],
   "source": [
    "import os\n",
    "import csv\n",
    "import numpy as np\n",
    "from keras.models import Sequential\n",
    "from keras.layers import Dense, BatchNormalization\n",
    "from keras.optimizers import Adam"
   ]
  },
  {
   "cell_type": "code",
   "execution_count": 80,
   "metadata": {},
   "outputs": [],
   "source": [
    "os.environ['CUDA_VISIBLE_DEVICES'] = '0'\n",
    "path = os.getcwd()"
   ]
  },
  {
   "cell_type": "code",
   "execution_count": 81,
   "metadata": {},
   "outputs": [],
   "source": [
    "with open(path + '/training.csv') as csv_file:\n",
    "    reader = csv.reader(csv_file)\n",
    "    x = []\n",
    "    y = []\n",
    "    next(reader)\n",
    "    for row in reader:\n",
    "        x.append(row[1:9])\n",
    "        y.append(row[9])\n",
    "x = np.array(x, dtype=np.float)\n",
    "y = np.array(y, dtype=np.float)"
   ]
  },
  {
   "cell_type": "code",
   "execution_count": 96,
   "metadata": {},
   "outputs": [],
   "source": [
    "def build_model_4(input_dim):\n",
    "    model = Sequential()\n",
    "    model.add(Dense(input_dim, input_dim=input_dim, activation='elu'))\n",
    "    model.add(BatchNormalization())\n",
    "    model.add(Dense(20, activation='relu'))\n",
    "    model.add(BatchNormalization())\n",
    "    model.add(Dense(40, activation='relu'))\n",
    "    model.add(BatchNormalization())\n",
    "    model.add(Dense(30, activation='relu'))\n",
    "    model.add(BatchNormalization())\n",
    "    model.add(Dense(20, activation='relu'))\n",
    "    model.add(Dense(1))\n",
    "    model.compile(loss='mean_squared_error', optimizer='adam', metrics=['mae'])\n",
    "    return model"
   ]
  },
  {
   "cell_type": "code",
   "execution_count": 123,
   "metadata": {},
   "outputs": [],
   "source": [
    "model_4 = build_model_4(8)\n",
    "optimizer = Adam (lr=0.5e-4, beta_1=0.9, beta_2=0.999, epsilon=1e-08, decay=0.0)"
   ]
  },
  {
   "cell_type": "code",
   "execution_count": 124,
   "metadata": {},
   "outputs": [
    {
     "name": "stdout",
     "output_type": "stream",
     "text": [
      "Epoch 1/50\n",
      "721/721 [==============================] - 3s 4ms/step - loss: 0.3744 - mean_absolute_error: 0.4660\n",
      "Epoch 2/50\n",
      "721/721 [==============================] - 1s 887us/step - loss: 0.1460 - mean_absolute_error: 0.3020\n",
      "Epoch 3/50\n",
      "721/721 [==============================] - 1s 867us/step - loss: 0.0920 - mean_absolute_error: 0.2394\n",
      "Epoch 4/50\n",
      "721/721 [==============================] - 1s 869us/step - loss: 0.0818 - mean_absolute_error: 0.2219\n",
      "Epoch 5/50\n",
      "721/721 [==============================] - 1s 862us/step - loss: 0.0678 - mean_absolute_error: 0.2051\n",
      "Epoch 6/50\n",
      "721/721 [==============================] - 1s 886us/step - loss: 0.0567 - mean_absolute_error: 0.1884\n",
      "Epoch 7/50\n",
      "721/721 [==============================] - 1s 867us/step - loss: 0.0548 - mean_absolute_error: 0.1891\n",
      "Epoch 8/50\n",
      "721/721 [==============================] - 1s 847us/step - loss: 0.0513 - mean_absolute_error: 0.1787\n",
      "Epoch 9/50\n",
      "721/721 [==============================] - 1s 922us/step - loss: 0.0532 - mean_absolute_error: 0.1818\n",
      "Epoch 10/50\n",
      "721/721 [==============================] - 1s 874us/step - loss: 0.0408 - mean_absolute_error: 0.1595\n",
      "Epoch 11/50\n",
      "721/721 [==============================] - 1s 875us/step - loss: 0.0396 - mean_absolute_error: 0.1567\n",
      "Epoch 12/50\n",
      "721/721 [==============================] - 1s 872us/step - loss: 0.0406 - mean_absolute_error: 0.1580\n",
      "Epoch 13/50\n",
      "721/721 [==============================] - 1s 892us/step - loss: 0.0377 - mean_absolute_error: 0.1535\n",
      "Epoch 14/50\n",
      "721/721 [==============================] - 1s 865us/step - loss: 0.0355 - mean_absolute_error: 0.1507\n",
      "Epoch 15/50\n",
      "721/721 [==============================] - 1s 879us/step - loss: 0.0316 - mean_absolute_error: 0.1424\n",
      "Epoch 16/50\n",
      "721/721 [==============================] - 1s 878us/step - loss: 0.0330 - mean_absolute_error: 0.1438\n",
      "Epoch 17/50\n",
      "721/721 [==============================] - 1s 897us/step - loss: 0.0342 - mean_absolute_error: 0.1472\n",
      "Epoch 18/50\n",
      "721/721 [==============================] - 1s 877us/step - loss: 0.0332 - mean_absolute_error: 0.1459\n",
      "Epoch 19/50\n",
      "721/721 [==============================] - 1s 872us/step - loss: 0.0330 - mean_absolute_error: 0.1446\n",
      "Epoch 20/50\n",
      "721/721 [==============================] - 1s 894us/step - loss: 0.0322 - mean_absolute_error: 0.1428\n",
      "Epoch 21/50\n",
      "721/721 [==============================] - 1s 898us/step - loss: 0.0318 - mean_absolute_error: 0.1439\n",
      "Epoch 22/50\n",
      "721/721 [==============================] - 1s 877us/step - loss: 0.0290 - mean_absolute_error: 0.1358\n",
      "Epoch 23/50\n",
      "721/721 [==============================] - 1s 880us/step - loss: 0.0334 - mean_absolute_error: 0.1457\n",
      "Epoch 24/50\n",
      "721/721 [==============================] - 1s 893us/step - loss: 0.0283 - mean_absolute_error: 0.1328\n",
      "Epoch 25/50\n",
      "721/721 [==============================] - 1s 877us/step - loss: 0.0301 - mean_absolute_error: 0.1337\n",
      "Epoch 26/50\n",
      "721/721 [==============================] - 1s 874us/step - loss: 0.0277 - mean_absolute_error: 0.1335\n",
      "Epoch 27/50\n",
      "721/721 [==============================] - 1s 872us/step - loss: 0.0290 - mean_absolute_error: 0.1355\n",
      "Epoch 28/50\n",
      "721/721 [==============================] - 1s 883us/step - loss: 0.0298 - mean_absolute_error: 0.1386\n",
      "Epoch 29/50\n",
      "721/721 [==============================] - 1s 876us/step - loss: 0.0263 - mean_absolute_error: 0.1267\n",
      "Epoch 30/50\n",
      "721/721 [==============================] - 1s 856us/step - loss: 0.0277 - mean_absolute_error: 0.1318\n",
      "Epoch 31/50\n",
      "721/721 [==============================] - 1s 883us/step - loss: 0.0246 - mean_absolute_error: 0.1246\n",
      "Epoch 32/50\n",
      "721/721 [==============================] - 1s 870us/step - loss: 0.0270 - mean_absolute_error: 0.1310\n",
      "Epoch 33/50\n",
      "721/721 [==============================] - 1s 863us/step - loss: 0.0250 - mean_absolute_error: 0.1267\n",
      "Epoch 34/50\n",
      "721/721 [==============================] - 1s 846us/step - loss: 0.0227 - mean_absolute_error: 0.1200\n",
      "Epoch 35/50\n",
      "721/721 [==============================] - 1s 873us/step - loss: 0.0228 - mean_absolute_error: 0.1194\n",
      "Epoch 36/50\n",
      "721/721 [==============================] - 1s 871us/step - loss: 0.0272 - mean_absolute_error: 0.1306\n",
      "Epoch 37/50\n",
      "721/721 [==============================] - 1s 887us/step - loss: 0.0210 - mean_absolute_error: 0.1166\n",
      "Epoch 38/50\n",
      "721/721 [==============================] - 1s 884us/step - loss: 0.0256 - mean_absolute_error: 0.1265\n",
      "Epoch 39/50\n",
      "721/721 [==============================] - 1s 888us/step - loss: 0.0253 - mean_absolute_error: 0.1250\n",
      "Epoch 40/50\n",
      "721/721 [==============================] - 1s 870us/step - loss: 0.0225 - mean_absolute_error: 0.1190\n",
      "Epoch 41/50\n",
      "721/721 [==============================] - 1s 884us/step - loss: 0.0225 - mean_absolute_error: 0.1184\n",
      "Epoch 42/50\n",
      "721/721 [==============================] - 1s 887us/step - loss: 0.0230 - mean_absolute_error: 0.1206\n",
      "Epoch 43/50\n",
      "721/721 [==============================] - 1s 1ms/step - loss: 0.0241 - mean_absolute_error: 0.1225\n",
      "Epoch 44/50\n",
      "721/721 [==============================] - 1s 827us/step - loss: 0.0230 - mean_absolute_error: 0.1193\n",
      "Epoch 45/50\n",
      "721/721 [==============================] - 1s 867us/step - loss: 0.0219 - mean_absolute_error: 0.1156\n",
      "Epoch 46/50\n",
      "721/721 [==============================] - 1s 859us/step - loss: 0.0211 - mean_absolute_error: 0.1144\n",
      "Epoch 47/50\n",
      "721/721 [==============================] - 1s 878us/step - loss: 0.0232 - mean_absolute_error: 0.1189\n",
      "Epoch 48/50\n",
      "721/721 [==============================] - 1s 864us/step - loss: 0.0206 - mean_absolute_error: 0.1116\n",
      "Epoch 49/50\n",
      "721/721 [==============================] - 1s 853us/step - loss: 0.0214 - mean_absolute_error: 0.1160\n",
      "Epoch 50/50\n",
      "721/721 [==============================] - 1s 890us/step - loss: 0.0221 - mean_absolute_error: 0.1184\n"
     ]
    },
    {
     "data": {
      "text/plain": [
       "<keras.callbacks.History at 0x7f37ad712a50>"
      ]
     },
     "execution_count": 124,
     "metadata": {},
     "output_type": "execute_result"
    }
   ],
   "source": [
    "model_4.fit(x, y, epochs=50,batch_size=10)"
   ]
  },
  {
   "cell_type": "code",
   "execution_count": 120,
   "metadata": {},
   "outputs": [],
   "source": [
    "with open(path + '/testing.csv') as csv_file:\n",
    "    reader = csv.reader(csv_file)\n",
    "    x_t = []\n",
    "    next(reader)\n",
    "    for row in reader:\n",
    "        x_t.append(row[1:9])\n",
    "x_t = np.array(x_t, dtype=np.float)"
   ]
  },
  {
   "cell_type": "code",
   "execution_count": 121,
   "metadata": {},
   "outputs": [],
   "source": [
    "y_t = []\n",
    "y_t = model_4.predict(x_t)"
   ]
  },
  {
   "cell_type": "code",
   "execution_count": 122,
   "metadata": {},
   "outputs": [],
   "source": [
    "with open('sample.csv', mode='w') as f:\n",
    "    sample_writer = csv.writer(f, delimiter=',', quotechar='\"', quoting=csv.QUOTE_MINIMAL)\n",
    "    sample_writer.writerow(['ID', 'strength'])\n",
    "    i = 722\n",
    "    for value in y_t:\n",
    "        sample_writer.writerow([i, float(value)])\n",
    "        i += 1"
   ]
  },
  {
   "cell_type": "code",
   "execution_count": null,
   "metadata": {},
   "outputs": [],
   "source": []
  }
 ],
 "metadata": {
  "kernelspec": {
   "display_name": "Python 3",
   "language": "python",
   "name": "python3"
  },
  "language_info": {
   "codemirror_mode": {
    "name": "ipython",
    "version": 2
   },
   "file_extension": ".py",
   "mimetype": "text/x-python",
   "name": "python",
   "nbconvert_exporter": "python",
   "pygments_lexer": "ipython2",
   "version": "2.7.16"
  }
 },
 "nbformat": 4,
 "nbformat_minor": 2
}
