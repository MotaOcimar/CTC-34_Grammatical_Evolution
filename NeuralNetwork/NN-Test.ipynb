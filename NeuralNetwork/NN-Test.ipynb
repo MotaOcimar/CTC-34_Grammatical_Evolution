{
 "cells": [
  {
   "cell_type": "code",
   "execution_count": 1,
   "metadata": {},
   "outputs": [
    {
     "name": "stderr",
     "output_type": "stream",
     "text": [
      "Using TensorFlow backend.\n"
     ]
    }
   ],
   "source": [
    "import os\n",
    "import csv\n",
    "import numpy as np\n",
    "from keras.models import Sequential\n",
    "from keras.layers import Dense, BatchNormalization\n",
    "from keras.optimizers import Adam"
   ]
  },
  {
   "cell_type": "code",
   "execution_count": 2,
   "metadata": {},
   "outputs": [],
   "source": [
    "os.environ['CUDA_VISIBLE_DEVICES'] = '0'\n",
    "path = os.getcwd()"
   ]
  },
  {
   "cell_type": "code",
   "execution_count": 4,
   "metadata": {},
   "outputs": [],
   "source": [
    "with open(path + '/training.csv') as csv_file:\n",
    "    reader = csv.reader(csv_file)\n",
    "    x = []\n",
    "    y = []\n",
    "    next(reader)\n",
    "    for row in reader:\n",
    "        x.append(row[1:9])\n",
    "        y.append(row[9])\n",
    "x = np.array(x, dtype=np.float)\n",
    "y = np.array(y, dtype=np.float)"
   ]
  },
  {
   "cell_type": "code",
   "execution_count": 5,
   "metadata": {},
   "outputs": [],
   "source": [
    "def build_NN(input_size):\n",
    "    model = Sequential()\n",
    "    model.add(Dense(input_size, input_dim=input_size, activation='elu'))\n",
    "    model.add(BatchNormalization())\n",
    "    model.add(Dense(20, activation='relu'))\n",
    "    model.add(BatchNormalization())\n",
    "    model.add(Dense(40, activation='relu'))\n",
    "    model.add(BatchNormalization())\n",
    "    model.add(Dense(30, activation='relu'))\n",
    "    model.add(BatchNormalization())\n",
    "    model.add(Dense(20, activation='relu'))\n",
    "    model.add(Dense(1))\n",
    "    model.compile(loss='mean_squared_error', optimizer='adam', metrics=['mae'])\n",
    "    return model"
   ]
  },
  {
   "cell_type": "code",
   "execution_count": 6,
   "metadata": {},
   "outputs": [
    {
     "name": "stdout",
     "output_type": "stream",
     "text": [
      "WARNING:tensorflow:From /home/lucas/anaconda3/envs/Data-Science-Competition/lib/python2.7/site-packages/tensorflow/python/framework/op_def_library.py:263: colocate_with (from tensorflow.python.framework.ops) is deprecated and will be removed in a future version.\n",
      "Instructions for updating:\n",
      "Colocations handled automatically by placer.\n"
     ]
    }
   ],
   "source": [
    "NN = build_NN(8)\n",
    "optimizer = Adam (lr=0.5e-4, beta_1=0.9, beta_2=0.999, epsilon=1e-08, decay=0.0)"
   ]
  },
  {
   "cell_type": "code",
   "execution_count": 7,
   "metadata": {},
   "outputs": [
    {
     "name": "stdout",
     "output_type": "stream",
     "text": [
      "WARNING:tensorflow:From /home/lucas/anaconda3/envs/Data-Science-Competition/lib/python2.7/site-packages/tensorflow/python/ops/math_ops.py:3066: to_int32 (from tensorflow.python.ops.math_ops) is deprecated and will be removed in a future version.\n",
      "Instructions for updating:\n",
      "Use tf.cast instead.\n",
      "Epoch 1/50\n",
      "721/721 [==============================] - 169s 234ms/step - loss: 0.4765 - mean_absolute_error: 0.5249\n",
      "Epoch 2/50\n",
      "721/721 [==============================] - 1s 874us/step - loss: 0.0951 - mean_absolute_error: 0.2378\n",
      "Epoch 3/50\n",
      "721/721 [==============================] - 1s 778us/step - loss: 0.0693 - mean_absolute_error: 0.2063\n",
      "Epoch 4/50\n",
      "721/721 [==============================] - 1s 766us/step - loss: 0.0576 - mean_absolute_error: 0.1888\n",
      "Epoch 5/50\n",
      "721/721 [==============================] - 1s 844us/step - loss: 0.0526 - mean_absolute_error: 0.1835\n",
      "Epoch 6/50\n",
      "721/721 [==============================] - 1s 796us/step - loss: 0.0438 - mean_absolute_error: 0.1640\n",
      "Epoch 7/50\n",
      "721/721 [==============================] - 1s 833us/step - loss: 0.0368 - mean_absolute_error: 0.1518\n",
      "Epoch 8/50\n",
      "721/721 [==============================] - 1s 854us/step - loss: 0.0362 - mean_absolute_error: 0.1521\n",
      "Epoch 9/50\n",
      "721/721 [==============================] - 1s 874us/step - loss: 0.0430 - mean_absolute_error: 0.1650\n",
      "Epoch 10/50\n",
      "721/721 [==============================] - 1s 841us/step - loss: 0.0310 - mean_absolute_error: 0.1397\n",
      "Epoch 11/50\n",
      "721/721 [==============================] - 1s 873us/step - loss: 0.0314 - mean_absolute_error: 0.1387\n",
      "Epoch 12/50\n",
      "721/721 [==============================] - 1s 868us/step - loss: 0.0332 - mean_absolute_error: 0.1455\n",
      "Epoch 13/50\n",
      "721/721 [==============================] - 1s 818us/step - loss: 0.0319 - mean_absolute_error: 0.1401\n",
      "Epoch 14/50\n",
      "721/721 [==============================] - 1s 829us/step - loss: 0.0279 - mean_absolute_error: 0.1321\n",
      "Epoch 15/50\n",
      "721/721 [==============================] - 1s 818us/step - loss: 0.0300 - mean_absolute_error: 0.1363\n",
      "Epoch 16/50\n",
      "721/721 [==============================] - 1s 836us/step - loss: 0.0288 - mean_absolute_error: 0.1317\n",
      "Epoch 17/50\n",
      "721/721 [==============================] - 1s 744us/step - loss: 0.0264 - mean_absolute_error: 0.1278\n",
      "Epoch 18/50\n",
      "721/721 [==============================] - 1s 887us/step - loss: 0.0264 - mean_absolute_error: 0.1307\n",
      "Epoch 19/50\n",
      "721/721 [==============================] - 1s 765us/step - loss: 0.0251 - mean_absolute_error: 0.1267\n",
      "Epoch 20/50\n",
      "721/721 [==============================] - 1s 798us/step - loss: 0.0258 - mean_absolute_error: 0.1277\n",
      "Epoch 21/50\n",
      "721/721 [==============================] - 1s 928us/step - loss: 0.0251 - mean_absolute_error: 0.1255\n",
      "Epoch 22/50\n",
      "721/721 [==============================] - 1s 828us/step - loss: 0.0267 - mean_absolute_error: 0.1300\n",
      "Epoch 23/50\n",
      "721/721 [==============================] - 1s 816us/step - loss: 0.0219 - mean_absolute_error: 0.1157\n",
      "Epoch 24/50\n",
      "721/721 [==============================] - 1s 796us/step - loss: 0.0213 - mean_absolute_error: 0.1148\n",
      "Epoch 25/50\n",
      "721/721 [==============================] - 1s 866us/step - loss: 0.0216 - mean_absolute_error: 0.1149\n",
      "Epoch 26/50\n",
      "721/721 [==============================] - 1s 806us/step - loss: 0.0229 - mean_absolute_error: 0.1205\n",
      "Epoch 27/50\n",
      "721/721 [==============================] - 1s 760us/step - loss: 0.0237 - mean_absolute_error: 0.1210\n",
      "Epoch 28/50\n",
      "721/721 [==============================] - 1s 933us/step - loss: 0.0209 - mean_absolute_error: 0.1146\n",
      "Epoch 29/50\n",
      "721/721 [==============================] - 1s 868us/step - loss: 0.0190 - mean_absolute_error: 0.1083\n",
      "Epoch 30/50\n",
      "721/721 [==============================] - 1s 985us/step - loss: 0.0221 - mean_absolute_error: 0.1157\n",
      "Epoch 31/50\n",
      "721/721 [==============================] - 1s 939us/step - loss: 0.0203 - mean_absolute_error: 0.1115\n",
      "Epoch 32/50\n",
      "721/721 [==============================] - 1s 925us/step - loss: 0.0205 - mean_absolute_error: 0.1123\n",
      "Epoch 33/50\n",
      "721/721 [==============================] - 1s 800us/step - loss: 0.0190 - mean_absolute_error: 0.1090\n",
      "Epoch 34/50\n",
      "721/721 [==============================] - 1s 766us/step - loss: 0.0192 - mean_absolute_error: 0.1076\n",
      "Epoch 35/50\n",
      "721/721 [==============================] - 1s 775us/step - loss: 0.0197 - mean_absolute_error: 0.1107\n",
      "Epoch 36/50\n",
      "721/721 [==============================] - 1s 784us/step - loss: 0.0196 - mean_absolute_error: 0.1094\n",
      "Epoch 37/50\n",
      "721/721 [==============================] - 1s 795us/step - loss: 0.0199 - mean_absolute_error: 0.1094\n",
      "Epoch 38/50\n",
      "721/721 [==============================] - 1s 789us/step - loss: 0.0202 - mean_absolute_error: 0.1128\n",
      "Epoch 39/50\n",
      "721/721 [==============================] - 1s 852us/step - loss: 0.0195 - mean_absolute_error: 0.1106\n",
      "Epoch 40/50\n",
      "721/721 [==============================] - 1s 897us/step - loss: 0.0172 - mean_absolute_error: 0.1005\n",
      "Epoch 41/50\n",
      "721/721 [==============================] - 1s 851us/step - loss: 0.0202 - mean_absolute_error: 0.1110\n",
      "Epoch 42/50\n",
      "721/721 [==============================] - 1s 831us/step - loss: 0.0150 - mean_absolute_error: 0.0955\n",
      "Epoch 43/50\n",
      "721/721 [==============================] - 1s 825us/step - loss: 0.0182 - mean_absolute_error: 0.1064\n",
      "Epoch 44/50\n",
      "721/721 [==============================] - 1s 824us/step - loss: 0.0167 - mean_absolute_error: 0.1024\n",
      "Epoch 45/50\n",
      "721/721 [==============================] - 1s 837us/step - loss: 0.0189 - mean_absolute_error: 0.1064\n",
      "Epoch 46/50\n",
      "721/721 [==============================] - 1s 829us/step - loss: 0.0176 - mean_absolute_error: 0.1047\n",
      "Epoch 47/50\n",
      "721/721 [==============================] - 1s 1ms/step - loss: 0.0147 - mean_absolute_error: 0.0943\n",
      "Epoch 48/50\n",
      "721/721 [==============================] - 1s 967us/step - loss: 0.0165 - mean_absolute_error: 0.1012\n",
      "Epoch 49/50\n",
      "721/721 [==============================] - 1s 787us/step - loss: 0.0176 - mean_absolute_error: 0.1037\n",
      "Epoch 50/50\n",
      "721/721 [==============================] - 1s 782us/step - loss: 0.0173 - mean_absolute_error: 0.1007\n"
     ]
    },
    {
     "data": {
      "text/plain": [
       "<keras.callbacks.History at 0x7f8bf6632a50>"
      ]
     },
     "execution_count": 7,
     "metadata": {},
     "output_type": "execute_result"
    }
   ],
   "source": [
    "NN.fit(x, y, epochs=50,batch_size=10)"
   ]
  },
  {
   "cell_type": "code",
   "execution_count": 8,
   "metadata": {},
   "outputs": [],
   "source": [
    "with open(path + '/testing.csv') as csv_file:\n",
    "    reader = csv.reader(csv_file)\n",
    "    x_t = []\n",
    "    next(reader)\n",
    "    for row in reader:\n",
    "        x_t.append(row[1:9])\n",
    "x_t = np.array(x_t, dtype=np.float)"
   ]
  },
  {
   "cell_type": "code",
   "execution_count": 9,
   "metadata": {},
   "outputs": [],
   "source": [
    "y_t = []\n",
    "y_t = NN.predict(x_t)"
   ]
  },
  {
   "cell_type": "code",
   "execution_count": 10,
   "metadata": {},
   "outputs": [],
   "source": [
    "with open('sample.csv', mode='w') as f:\n",
    "    sample_writer = csv.writer(f, delimiter=',', quotechar='\"', quoting=csv.QUOTE_MINIMAL)\n",
    "    sample_writer.writerow(['ID', 'strength'])\n",
    "    i = 722\n",
    "    for value in y_t:\n",
    "        sample_writer.writerow([i, float(value)])\n",
    "        i += 1"
   ]
  },
  {
   "cell_type": "code",
   "execution_count": 11,
   "metadata": {},
   "outputs": [],
   "source": [
    "from keras.utils import plot_model\n",
    "plot_model(NN, to_file=path + '/model.png')"
   ]
  },
  {
   "cell_type": "code",
   "execution_count": null,
   "metadata": {},
   "outputs": [],
   "source": []
  }
 ],
 "metadata": {
  "kernelspec": {
   "display_name": "Python 3",
   "language": "python",
   "name": "python3"
  },
  "language_info": {
   "codemirror_mode": {
    "name": "ipython",
    "version": 2
   },
   "file_extension": ".py",
   "mimetype": "text/x-python",
   "name": "python",
   "nbconvert_exporter": "python",
   "pygments_lexer": "ipython2",
   "version": "2.7.16"
  }
 },
 "nbformat": 4,
 "nbformat_minor": 2
}
